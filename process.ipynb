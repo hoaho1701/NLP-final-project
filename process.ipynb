{
 "cells": [
  {
   "cell_type": "code",
   "execution_count": null,
   "id": "40448e31",
   "metadata": {},
   "outputs": [],
   "source": [
    "import gdown\n",
    "import zipfile\n",
    "import os\n",
    "import pandas as pd\n",
    "import glob\n",
    "import shutil\n",
    "import re\n",
    "import string\n",
    "import numpy as np"
   ]
  },
  {
   "cell_type": "code",
   "execution_count": 2,
   "id": "cdae7cba",
   "metadata": {},
   "outputs": [],
   "source": [
    "def download_and_process_zip_files(file_id_dict):\n",
    "    \"\"\"\n",
    "    Download .zip files from Google Drive, extract them, combine CSV data.\n",
    "    Adds a 'source_file' column to track the original zip filename.\n",
    "\n",
    "    Params:\n",
    "        file_id_dict: dict\n",
    "            Dictionary in the form { 'filename.zip': 'google_drive_file_id' }\n",
    "\n",
    "    Returns:\n",
    "        combined_df: pandas.DataFrame\n",
    "    \"\"\"\n",
    "    print(\"Starting download and extraction...\\n\")\n",
    "    all_dfs = []\n",
    "\n",
    "    for zip_filename, file_id in file_id_dict.items():\n",
    "        # Download\n",
    "        url = f'https://drive.google.com/uc?id={file_id}'\n",
    "        gdown.download(url, zip_filename, quiet=False)\n",
    "\n",
    "        # Extract\n",
    "        extract_dir = zip_filename.replace('.zip', '')\n",
    "        os.makedirs(extract_dir, exist_ok=True)\n",
    "        with zipfile.ZipFile(zip_filename, 'r') as zip_ref:\n",
    "            zip_ref.extractall(extract_dir)\n",
    "        os.remove(zip_filename)\n",
    "\n",
    "        # Read CSV(s)\n",
    "        csv_files = glob.glob(f'{extract_dir}/**/*.csv', recursive=True)\n",
    "\n",
    "        for csv_file in csv_files:\n",
    "            df = pd.read_csv(csv_file)\n",
    "            if 'Unnamed: 0' in df.columns:\n",
    "                df.drop(columns=['Unnamed: 0'], inplace=True)\n",
    "            df['label'] = zip_filename\n",
    "            all_dfs.append(df)\n",
    "\n",
    "        # Clean up\n",
    "        shutil.rmtree(extract_dir)\n",
    "\n",
    "    # Combine all data\n",
    "    combined_df = pd.concat(all_dfs, ignore_index=True)\n",
    "    print(\"Combine completed!\\n\")\n",
    "\n",
    "    return combined_df\n"
   ]
  },
  {
   "cell_type": "code",
   "execution_count": 3,
   "id": "43440f0c",
   "metadata": {},
   "outputs": [],
   "source": [
    "def assign_label(df, fake_keyword=\"FAKE\"):\n",
    "    \"\"\"\n",
    "    Assign label based on whether 'label' contains a keyword.\n",
    "\n",
    "    Params:\n",
    "        df: pandas.DataFrame - must have 'label' column\n",
    "        fake_keyword: str - keyword to detect fake samples (default: \"FAKE\")\n",
    "\n",
    "    Returns:\n",
    "        df with 'label' column\n",
    "    \"\"\"\n",
    "    df['label'] = df['label'].apply(\n",
    "        lambda name: 0 if fake_keyword.upper() in name.upper() else 1\n",
    "    )\n",
    "    return df"
   ]
  },
  {
   "cell_type": "code",
   "execution_count": null,
   "id": "d0536361",
   "metadata": {},
   "outputs": [],
   "source": [
    "def preprocess_text(df: pd.DataFrame, column_name: str) -> pd.Series:\n",
    "    \"\"\"\n",
    "    Clean a text column by removing URLs, HTML, emojis, punctuation, and digits.\n",
    "\n",
    "    Params:\n",
    "        df: pandas.DataFrame - the input DataFrame\n",
    "        column_name: str - name of the column to clean\n",
    "\n",
    "    Returns:\n",
    "        A new Series of cleaned text\n",
    "    \"\"\"\n",
    "    url_pattern = re.compile(r'https?://\\S+|www\\.\\S+')\n",
    "    html_pattern = re.compile(r'<[^>]+>')\n",
    "    emoji_pattern = re.compile(\n",
    "        \"[\"  \n",
    "        u\"\\U0001F600-\\U0001F64F\"\n",
    "        u\"\\U0001F300-\\U0001F5FF\"\n",
    "        u\"\\U0001F680-\\U0001F6FF\"\n",
    "        u\"\\U0001F1E0-\\U0001F1FF\"\n",
    "        \"]+\", flags=re.UNICODE\n",
    "    )\n",
    "    punct_digit_table = str.maketrans(\n",
    "        {ch: \" \" for ch in string.punctuation + string.digits}\n",
    "    )\n",
    "\n",
    "    def clean(text: str) -> str:\n",
    "        text = url_pattern.sub(\" \", str(text))\n",
    "        text = html_pattern.sub(\" \", text)\n",
    "        text = text.translate(punct_digit_table)\n",
    "        text = emoji_pattern.sub(\" \", text)\n",
    "        text = re.sub(r\"\\s+\", \" \", text).strip()\n",
    "        return text.lower()\n",
    "\n",
    "    return df[column_name].apply(lambda x: clean(x) if pd.notnull(x) else np.nan)\n"
   ]
  },
  {
   "cell_type": "code",
   "execution_count": 5,
   "id": "e8c562a5",
   "metadata": {},
   "outputs": [
    {
     "name": "stdout",
     "output_type": "stream",
     "text": [
      "Starting download and extraction...\n",
      "\n"
     ]
    },
    {
     "name": "stderr",
     "output_type": "stream",
     "text": [
      "Downloading...\n",
      "From (original): https://drive.google.com/uc?id=1aA9o8PJ-9gYAcLaaxLmXUrxlrHtArlrh\n",
      "From (redirected): https://drive.google.com/uc?id=1aA9o8PJ-9gYAcLaaxLmXUrxlrHtArlrh&confirm=t&uuid=217b06e2-ec64-4cfd-92a1-f4d872162513\n",
      "To: /Users/hoaho/Study/HCMUS/HCMUS-projects/NLP-final-project/misinfo_FAKE.zip\n",
      "100%|██████████| 45.1M/45.1M [00:01<00:00, 27.2MB/s]\n",
      "Downloading...\n",
      "From (original): https://drive.google.com/uc?id=1BhaOQU5wYDL8IxOzgvZM-IlgYfJf3HFD\n",
      "From (redirected): https://drive.google.com/uc?id=1BhaOQU5wYDL8IxOzgvZM-IlgYfJf3HFD&confirm=t&uuid=790eb748-7fd6-409c-8fce-0ab7d7a1c083\n",
      "To: /Users/hoaho/Study/HCMUS/HCMUS-projects/NLP-final-project/misinfo_TRUE.zip\n",
      "100%|██████████| 43.0M/43.0M [00:01<00:00, 28.5MB/s]\n"
     ]
    },
    {
     "name": "stdout",
     "output_type": "stream",
     "text": [
      "Combine completed!\n",
      "\n"
     ]
    },
    {
     "data": {
      "text/html": [
       "<div>\n",
       "<style scoped>\n",
       "    .dataframe tbody tr th:only-of-type {\n",
       "        vertical-align: middle;\n",
       "    }\n",
       "\n",
       "    .dataframe tbody tr th {\n",
       "        vertical-align: top;\n",
       "    }\n",
       "\n",
       "    .dataframe thead th {\n",
       "        text-align: right;\n",
       "    }\n",
       "</style>\n",
       "<table border=\"1\" class=\"dataframe\">\n",
       "  <thead>\n",
       "    <tr style=\"text-align: right;\">\n",
       "      <th></th>\n",
       "      <th>text</th>\n",
       "      <th>label</th>\n",
       "    </tr>\n",
       "  </thead>\n",
       "  <tbody>\n",
       "    <tr>\n",
       "      <th>0</th>\n",
       "      <td>Donald Trump just couldn t wish all Americans ...</td>\n",
       "      <td>0</td>\n",
       "    </tr>\n",
       "    <tr>\n",
       "      <th>1</th>\n",
       "      <td>House Intelligence Committee Chairman Devin Nu...</td>\n",
       "      <td>0</td>\n",
       "    </tr>\n",
       "    <tr>\n",
       "      <th>2</th>\n",
       "      <td>On Friday, it was revealed that former Milwauk...</td>\n",
       "      <td>0</td>\n",
       "    </tr>\n",
       "    <tr>\n",
       "      <th>3</th>\n",
       "      <td>On Christmas day, Donald Trump announced that ...</td>\n",
       "      <td>0</td>\n",
       "    </tr>\n",
       "    <tr>\n",
       "      <th>4</th>\n",
       "      <td>Pope Francis used his annual Christmas Day mes...</td>\n",
       "      <td>0</td>\n",
       "    </tr>\n",
       "  </tbody>\n",
       "</table>\n",
       "</div>"
      ],
      "text/plain": [
       "                                                text  label\n",
       "0  Donald Trump just couldn t wish all Americans ...      0\n",
       "1  House Intelligence Committee Chairman Devin Nu...      0\n",
       "2  On Friday, it was revealed that former Milwauk...      0\n",
       "3  On Christmas day, Donald Trump announced that ...      0\n",
       "4  Pope Francis used his annual Christmas Day mes...      0"
      ]
     },
     "execution_count": 5,
     "metadata": {},
     "output_type": "execute_result"
    }
   ],
   "source": [
    "file_ids = {\n",
    "    'misinfo_FAKE.zip': '1aA9o8PJ-9gYAcLaaxLmXUrxlrHtArlrh',\n",
    "    'misinfo_TRUE.zip': '1BhaOQU5wYDL8IxOzgvZM-IlgYfJf3HFD'\n",
    "}\n",
    "\n",
    "# Download and combine data\n",
    "df = download_and_process_zip_files(file_ids)\n",
    "\n",
    "# Assign label\n",
    "df_labeled = assign_label(df)\n",
    "\n",
    "df_labeled.head()\n"
   ]
  },
  {
   "cell_type": "code",
   "execution_count": 7,
   "id": "94864b10",
   "metadata": {},
   "outputs": [
    {
     "data": {
      "text/html": [
       "<div>\n",
       "<style scoped>\n",
       "    .dataframe tbody tr th:only-of-type {\n",
       "        vertical-align: middle;\n",
       "    }\n",
       "\n",
       "    .dataframe tbody tr th {\n",
       "        vertical-align: top;\n",
       "    }\n",
       "\n",
       "    .dataframe thead th {\n",
       "        text-align: right;\n",
       "    }\n",
       "</style>\n",
       "<table border=\"1\" class=\"dataframe\">\n",
       "  <thead>\n",
       "    <tr style=\"text-align: right;\">\n",
       "      <th></th>\n",
       "      <th>text_cleaned</th>\n",
       "      <th>label</th>\n",
       "    </tr>\n",
       "  </thead>\n",
       "  <tbody>\n",
       "    <tr>\n",
       "      <th>0</th>\n",
       "      <td>donald trump just couldn t wish all americans ...</td>\n",
       "      <td>0</td>\n",
       "    </tr>\n",
       "    <tr>\n",
       "      <th>1</th>\n",
       "      <td>house intelligence committee chairman devin nu...</td>\n",
       "      <td>0</td>\n",
       "    </tr>\n",
       "    <tr>\n",
       "      <th>2</th>\n",
       "      <td>on friday it was revealed that former milwauke...</td>\n",
       "      <td>0</td>\n",
       "    </tr>\n",
       "    <tr>\n",
       "      <th>3</th>\n",
       "      <td>on christmas day donald trump announced that h...</td>\n",
       "      <td>0</td>\n",
       "    </tr>\n",
       "    <tr>\n",
       "      <th>4</th>\n",
       "      <td>pope francis used his annual christmas day mes...</td>\n",
       "      <td>0</td>\n",
       "    </tr>\n",
       "  </tbody>\n",
       "</table>\n",
       "</div>"
      ],
      "text/plain": [
       "                                        text_cleaned  label\n",
       "0  donald trump just couldn t wish all americans ...      0\n",
       "1  house intelligence committee chairman devin nu...      0\n",
       "2  on friday it was revealed that former milwauke...      0\n",
       "3  on christmas day donald trump announced that h...      0\n",
       "4  pope francis used his annual christmas day mes...      0"
      ]
     },
     "execution_count": 7,
     "metadata": {},
     "output_type": "execute_result"
    }
   ],
   "source": [
    "df_processed = df_labeled.copy()\n",
    "df_processed['text_cleaned'] = preprocess_text(df_processed, 'text')\n",
    "df_processed = df_processed[['text_cleaned', 'label']]\n",
    "df_processed.head()"
   ]
  },
  {
   "cell_type": "code",
   "execution_count": 8,
   "id": "ddfb5eb4",
   "metadata": {},
   "outputs": [
    {
     "name": "stdout",
     "output_type": "stream",
     "text": [
      "<class 'pandas.core.frame.DataFrame'>\n",
      "RangeIndex: 78617 entries, 0 to 78616\n",
      "Data columns (total 2 columns):\n",
      " #   Column        Non-Null Count  Dtype \n",
      "---  ------        --------------  ----- \n",
      " 0   text_cleaned  78617 non-null  object\n",
      " 1   label         78617 non-null  int64 \n",
      "dtypes: int64(1), object(1)\n",
      "memory usage: 1.2+ MB\n",
      "None\n"
     ]
    }
   ],
   "source": [
    "print(df_processed.info())"
   ]
  },
  {
   "cell_type": "code",
   "execution_count": 9,
   "id": "126d014c",
   "metadata": {},
   "outputs": [
    {
     "name": "stdout",
     "output_type": "stream",
     "text": [
      "              label\n",
      "count  78617.000000\n",
      "mean       0.444878\n",
      "std        0.496955\n",
      "min        0.000000\n",
      "25%        0.000000\n",
      "50%        0.000000\n",
      "75%        1.000000\n",
      "max        1.000000\n"
     ]
    }
   ],
   "source": [
    "print(df_processed.describe())"
   ]
  },
  {
   "cell_type": "code",
   "execution_count": 14,
   "id": "0c08a202",
   "metadata": {},
   "outputs": [
    {
     "name": "stdout",
     "output_type": "stream",
     "text": [
      "Missing values per column:\n",
      "text_cleaned    0\n",
      "label           0\n",
      "dtype: int64\n"
     ]
    }
   ],
   "source": [
    "print(\"Missing values per column:\")\n",
    "print(df_processed.isnull().sum())"
   ]
  },
  {
   "cell_type": "code",
   "execution_count": 11,
   "id": "1382cab0",
   "metadata": {},
   "outputs": [
    {
     "name": "stdout",
     "output_type": "stream",
     "text": [
      "Label distribution:\n",
      "label\n",
      "0    43642\n",
      "1    34975\n",
      "Name: count, dtype: int64\n"
     ]
    }
   ],
   "source": [
    "print(\"Label distribution:\")\n",
    "print(df_processed['label'].value_counts())"
   ]
  },
  {
   "cell_type": "code",
   "execution_count": 12,
   "id": "e9fe9edd",
   "metadata": {},
   "outputs": [],
   "source": [
    "csv_filename = \"misinfo_processed.csv\"\n",
    "zip_filename = \"misinfo_processed.zip\"\n",
    "\n",
    "# Save temporary csv file\n",
    "df.to_csv(csv_filename, index=False)\n",
    "\n",
    "# Compress the CSV file into a .zip archive\n",
    "with zipfile.ZipFile(zip_filename, 'w', compression=zipfile.ZIP_DEFLATED) as zipf:\n",
    "    zipf.write(csv_filename)\n",
    "\n",
    "# Remove the temporary CSV file\n",
    "os.remove(csv_filename)"
   ]
  },
  {
   "cell_type": "code",
   "execution_count": null,
   "id": "5fe69894",
   "metadata": {},
   "outputs": [
    {
     "name": "stdout",
     "output_type": "stream",
     "text": [
      "29\n"
     ]
    }
   ],
   "source": [
    "print(df_labeled[df_labeled['label'] == 1]['text'].isnull().sum())"
   ]
  },
  {
   "cell_type": "code",
   "execution_count": null,
   "id": "415efee3",
   "metadata": {},
   "outputs": [],
   "source": []
  }
 ],
 "metadata": {
  "kernelspec": {
   "display_name": "env",
   "language": "python",
   "name": "python3"
  },
  "language_info": {
   "codemirror_mode": {
    "name": "ipython",
    "version": 3
   },
   "file_extension": ".py",
   "mimetype": "text/x-python",
   "name": "python",
   "nbconvert_exporter": "python",
   "pygments_lexer": "ipython3",
   "version": "3.10.16"
  }
 },
 "nbformat": 4,
 "nbformat_minor": 5
}
